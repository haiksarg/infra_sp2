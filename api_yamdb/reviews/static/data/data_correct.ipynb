{
 "cells": [
  {
   "cell_type": "code",
   "execution_count": 9,
   "id": "05f01fb6",
   "metadata": {},
   "outputs": [],
   "source": [
    "import pandas as pd\n",
    "import numpy as np\n",
    "from datetime import datetime as dt"
   ]
  },
  {
   "cell_type": "code",
   "execution_count": 10,
   "id": "05c869a5",
   "metadata": {},
   "outputs": [],
   "source": [
    "df = pd.read_csv('comments.csv', delimiter=',')\n",
    "df = df[['id', 'text', 'pub_date', 'author', 'review_id']]\n",
    "df['pub_date'] = pd.to_datetime(df['pub_date'])\n",
    "df['pub_date'] = df['pub_date'].dt.strftime('%Y-%m-%d %H:%M:%S.%f')\n",
    "df.to_csv('comments.csv', header=True, index=False)"
   ]
  },
  {
   "cell_type": "code",
   "execution_count": 11,
   "id": "4df9c21b",
   "metadata": {},
   "outputs": [],
   "source": [
    "df = pd.read_csv('review.csv', delimiter=',')\n",
    "df = df[['id', 'text', 'pub_date', 'score', 'author', 'title_id']]\n",
    "df['pub_date'] = pd.to_datetime(df['pub_date'])\n",
    "df['pub_date'] = df['pub_date'].dt.strftime('%Y-%m-%d %H:%M:%S.%f')\n",
    "df.to_csv('review.csv', header=True, index=False)"
   ]
  },
  {
   "cell_type": "code",
   "execution_count": 12,
   "id": "3ad45586",
   "metadata": {},
   "outputs": [],
   "source": [
    "df = pd.read_csv('genre_title.csv', delimiter=',')\n",
    "df = df[['id', 'genre_id', 'title_id']]\n",
    "df.to_csv('genre_title.csv', header=True, index=False)"
   ]
  },
  {
   "cell_type": "code",
   "execution_count": 15,
   "id": "f52e8cae",
   "metadata": {},
   "outputs": [],
   "source": [
    "df = pd.read_csv('titles.csv', delimiter=',')\n",
    "df.insert(3, 'description', np.nan)\n",
    "df.to_csv('titles.csv', header=True, index=False)"
   ]
  },
  {
   "cell_type": "code",
   "execution_count": 16,
   "id": "4af327d9",
   "metadata": {},
   "outputs": [],
   "source": [
    "df = pd.read_csv('users.csv', delimiter=',')\n",
    "\n",
    "df['confirmation_code'] = np.nan\n",
    "\n",
    "names = ('data_joined', 'is_active', 'is_staff',\n",
    "         'is_superuser', 'last_login', 'password')\n",
    "for name in names:\n",
    "    df.insert(1, name, np.nan)\n",
    "df.to_csv('users.csv', header=True, index=False)"
   ]
  }
 ],
 "metadata": {
  "kernelspec": {
   "display_name": "Python 3 (ipykernel)",
   "language": "python",
   "name": "python3"
  },
  "language_info": {
   "codemirror_mode": {
    "name": "ipython",
    "version": 3
   },
   "file_extension": ".py",
   "mimetype": "text/x-python",
   "name": "python",
   "nbconvert_exporter": "python",
   "pygments_lexer": "ipython3",
   "version": "3.9.13"
  }
 },
 "nbformat": 4,
 "nbformat_minor": 5
}
